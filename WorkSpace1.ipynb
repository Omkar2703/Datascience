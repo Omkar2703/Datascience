{
 "cells": [
  {
   "cell_type": "code",
   "execution_count": 7,
   "id": "e34e3c12",
   "metadata": {},
   "outputs": [
    {
     "name": "stdout",
     "output_type": "stream",
     "text": [
      "[85, 62, 91, 78, 55, 99, 73, 48, 88, 67, 85, 62, 91, 78, 55, 99, 73, 48, 88, 67]\n"
     ]
    }
   ],
   "source": [
    "data = [85, 62, 91, 78, 55, 99, 73, 48, 88, 67]\n",
    "print(data * 2)"
   ]
  },
  {
   "cell_type": "code",
   "execution_count": 8,
   "id": "a117bfd0",
   "metadata": {},
   "outputs": [
    {
     "name": "stdout",
     "output_type": "stream",
     "text": [
      "[85 62 91 78 55 99 73 48 88 67]\n",
      "[170 124 182 156 110 198 146  96 176 134]\n"
     ]
    }
   ],
   "source": [
    "import numpy as np\n",
    "\n",
    "grade = np.array(data)\n",
    "print(grade)\n",
    "print(grade * 2)"
   ]
  },
  {
   "cell_type": "code",
   "execution_count": 9,
   "id": "1f50c3c3",
   "metadata": {},
   "outputs": [
    {
     "name": "stdout",
     "output_type": "stream",
     "text": [
      "[['Emma' 'Noah' 'Olivia' 'Liam' 'Ava' 'Mason' 'Sophia' 'Jacob' 'Isabella'\n",
      "  'William']\n",
      " ['85' '62' '91' '78' '55' '99' '73' '48' '88' '67']\n",
      " ['2.5' '6.0' '1.0' '4.5' '8.0' '3.0' '7.5' '5.0' '0.5' '9.0']]\n"
     ]
    }
   ],
   "source": [
    "Students = np.array([[\"Emma\", \"Noah\", \"Olivia\", \"Liam\", \"Ava\", \"Mason\", \"Sophia\", \"Jacob\", \"Isabella\", \"William\"] ,grade, [2.5, 6.0, 1.0, 4.5, 8.0, 3.0, 7.5, 5.0, 0.5, 9.0]])\n",
    "\n",
    "print(Students)"
   ]
  },
  {
   "cell_type": "code",
   "execution_count": 10,
   "id": "6cdf033e",
   "metadata": {},
   "outputs": [
    {
     "name": "stdout",
     "output_type": "stream",
     "text": [
      "['Emma' 'Noah' 'Olivia' 'Liam' 'Ava' 'Mason' 'Sophia' 'Jacob' 'Isabella'\n",
      " 'William']\n"
     ]
    }
   ],
   "source": [
    "print(Students[0])"
   ]
  },
  {
   "cell_type": "code",
   "execution_count": 11,
   "id": "f7a831d0",
   "metadata": {},
   "outputs": [
    {
     "data": {
      "text/plain": [
       "(3, 10)"
      ]
     },
     "execution_count": 11,
     "metadata": {},
     "output_type": "execute_result"
    }
   ],
   "source": [
    "Students.shape"
   ]
  },
  {
   "cell_type": "code",
   "execution_count": 12,
   "id": "16d4822d",
   "metadata": {},
   "outputs": [
    {
     "data": {
      "text/plain": [
       "dtype('<U32')"
      ]
     },
     "execution_count": 12,
     "metadata": {},
     "output_type": "execute_result"
    }
   ],
   "source": [
    "Students.dtype"
   ]
  },
  {
   "cell_type": "code",
   "execution_count": 13,
   "id": "7e06c325",
   "metadata": {},
   "outputs": [
    {
     "data": {
      "text/plain": [
       "30"
      ]
     },
     "execution_count": 13,
     "metadata": {},
     "output_type": "execute_result"
    }
   ],
   "source": [
    "Students.size"
   ]
  },
  {
   "cell_type": "code",
   "execution_count": 14,
   "id": "d62264a0",
   "metadata": {},
   "outputs": [],
   "source": [
    "import pandas as pd"
   ]
  },
  {
   "cell_type": "code",
   "execution_count": 15,
   "id": "fd77c7f7",
   "metadata": {},
   "outputs": [
    {
     "name": "stdout",
     "output_type": "stream",
     "text": [
      "       Name Grade Study Hours\n",
      "0      Emma    85         2.5\n",
      "1      Noah    62         6.0\n",
      "2    Olivia    91         1.0\n",
      "3      Liam    78         4.5\n",
      "4       Ava    55         8.0\n",
      "5     Mason    99         3.0\n",
      "6    Sophia    73         7.5\n",
      "7     Jacob    48         5.0\n",
      "8  Isabella    88         0.5\n",
      "9   William    67         9.0\n"
     ]
    }
   ],
   "source": [
    "df = pd.DataFrame(Students.T, columns= ['Name', 'Grade', 'Study Hours'])\n",
    "print(df)"
   ]
  },
  {
   "cell_type": "code",
   "execution_count": 18,
   "id": "483e8f0f",
   "metadata": {},
   "outputs": [],
   "source": [
    "df['Grade'] = pd.to_numeric(df['Grade'])\n",
    "df['Study Hours'] = pd.to_numeric(df['Study Hours'])"
   ]
  },
  {
   "cell_type": "code",
   "execution_count": 20,
   "id": "91017c0a",
   "metadata": {},
   "outputs": [
    {
     "data": {
      "text/html": [
       "<div>\n",
       "<style scoped>\n",
       "    .dataframe tbody tr th:only-of-type {\n",
       "        vertical-align: middle;\n",
       "    }\n",
       "\n",
       "    .dataframe tbody tr th {\n",
       "        vertical-align: top;\n",
       "    }\n",
       "\n",
       "    .dataframe thead th {\n",
       "        text-align: right;\n",
       "    }\n",
       "</style>\n",
       "<table border=\"1\" class=\"dataframe\">\n",
       "  <thead>\n",
       "    <tr style=\"text-align: right;\">\n",
       "      <th></th>\n",
       "      <th>Name</th>\n",
       "      <th>Grade</th>\n",
       "      <th>Study Hours</th>\n",
       "    </tr>\n",
       "  </thead>\n",
       "  <tbody>\n",
       "    <tr>\n",
       "      <th>0</th>\n",
       "      <td>Emma</td>\n",
       "      <td>85</td>\n",
       "      <td>2.5</td>\n",
       "    </tr>\n",
       "    <tr>\n",
       "      <th>1</th>\n",
       "      <td>Noah</td>\n",
       "      <td>62</td>\n",
       "      <td>6.0</td>\n",
       "    </tr>\n",
       "    <tr>\n",
       "      <th>2</th>\n",
       "      <td>Olivia</td>\n",
       "      <td>91</td>\n",
       "      <td>1.0</td>\n",
       "    </tr>\n",
       "    <tr>\n",
       "      <th>3</th>\n",
       "      <td>Liam</td>\n",
       "      <td>78</td>\n",
       "      <td>4.5</td>\n",
       "    </tr>\n",
       "    <tr>\n",
       "      <th>4</th>\n",
       "      <td>Ava</td>\n",
       "      <td>55</td>\n",
       "      <td>8.0</td>\n",
       "    </tr>\n",
       "  </tbody>\n",
       "</table>\n",
       "</div>"
      ],
      "text/plain": [
       "     Name  Grade  Study Hours\n",
       "0    Emma     85          2.5\n",
       "1    Noah     62          6.0\n",
       "2  Olivia     91          1.0\n",
       "3    Liam     78          4.5\n",
       "4     Ava     55          8.0"
      ]
     },
     "execution_count": 20,
     "metadata": {},
     "output_type": "execute_result"
    }
   ],
   "source": [
    "df.head()"
   ]
  },
  {
   "cell_type": "code",
   "execution_count": 21,
   "id": "d2c55c01",
   "metadata": {},
   "outputs": [
    {
     "name": "stdout",
     "output_type": "stream",
     "text": [
      "<class 'pandas.core.frame.DataFrame'>\n",
      "RangeIndex: 10 entries, 0 to 9\n",
      "Data columns (total 3 columns):\n",
      " #   Column       Non-Null Count  Dtype  \n",
      "---  ------       --------------  -----  \n",
      " 0   Name         10 non-null     object \n",
      " 1   Grade        10 non-null     int64  \n",
      " 2   Study Hours  10 non-null     float64\n",
      "dtypes: float64(1), int64(1), object(1)\n",
      "memory usage: 372.0+ bytes\n"
     ]
    }
   ],
   "source": [
    "df.info()"
   ]
  },
  {
   "cell_type": "code",
   "execution_count": 22,
   "id": "fa6b5c3b",
   "metadata": {},
   "outputs": [
    {
     "data": {
      "text/html": [
       "<div>\n",
       "<style scoped>\n",
       "    .dataframe tbody tr th:only-of-type {\n",
       "        vertical-align: middle;\n",
       "    }\n",
       "\n",
       "    .dataframe tbody tr th {\n",
       "        vertical-align: top;\n",
       "    }\n",
       "\n",
       "    .dataframe thead th {\n",
       "        text-align: right;\n",
       "    }\n",
       "</style>\n",
       "<table border=\"1\" class=\"dataframe\">\n",
       "  <thead>\n",
       "    <tr style=\"text-align: right;\">\n",
       "      <th></th>\n",
       "      <th>Grade</th>\n",
       "      <th>Study Hours</th>\n",
       "    </tr>\n",
       "  </thead>\n",
       "  <tbody>\n",
       "    <tr>\n",
       "      <th>count</th>\n",
       "      <td>10.000000</td>\n",
       "      <td>10.000000</td>\n",
       "    </tr>\n",
       "    <tr>\n",
       "      <th>mean</th>\n",
       "      <td>74.600000</td>\n",
       "      <td>4.700000</td>\n",
       "    </tr>\n",
       "    <tr>\n",
       "      <th>std</th>\n",
       "      <td>16.581114</td>\n",
       "      <td>2.945807</td>\n",
       "    </tr>\n",
       "    <tr>\n",
       "      <th>min</th>\n",
       "      <td>48.000000</td>\n",
       "      <td>0.500000</td>\n",
       "    </tr>\n",
       "    <tr>\n",
       "      <th>25%</th>\n",
       "      <td>63.250000</td>\n",
       "      <td>2.625000</td>\n",
       "    </tr>\n",
       "    <tr>\n",
       "      <th>50%</th>\n",
       "      <td>75.500000</td>\n",
       "      <td>4.750000</td>\n",
       "    </tr>\n",
       "    <tr>\n",
       "      <th>75%</th>\n",
       "      <td>87.250000</td>\n",
       "      <td>7.125000</td>\n",
       "    </tr>\n",
       "    <tr>\n",
       "      <th>max</th>\n",
       "      <td>99.000000</td>\n",
       "      <td>9.000000</td>\n",
       "    </tr>\n",
       "  </tbody>\n",
       "</table>\n",
       "</div>"
      ],
      "text/plain": [
       "           Grade  Study Hours\n",
       "count  10.000000    10.000000\n",
       "mean   74.600000     4.700000\n",
       "std    16.581114     2.945807\n",
       "min    48.000000     0.500000\n",
       "25%    63.250000     2.625000\n",
       "50%    75.500000     4.750000\n",
       "75%    87.250000     7.125000\n",
       "max    99.000000     9.000000"
      ]
     },
     "execution_count": 22,
     "metadata": {},
     "output_type": "execute_result"
    }
   ],
   "source": [
    "df.describe()"
   ]
  },
  {
   "cell_type": "code",
   "execution_count": 23,
   "id": "f669039f",
   "metadata": {},
   "outputs": [
    {
     "name": "stdout",
     "output_type": "stream",
     "text": [
      "0        Emma\n",
      "1        Noah\n",
      "2      Olivia\n",
      "3        Liam\n",
      "4         Ava\n",
      "5       Mason\n",
      "6      Sophia\n",
      "7       Jacob\n",
      "8    Isabella\n",
      "9     William\n",
      "Name: Name, dtype: object\n"
     ]
    }
   ],
   "source": [
    "print(df['Name'])"
   ]
  },
  {
   "cell_type": "code",
   "execution_count": 25,
   "id": "720675a9",
   "metadata": {},
   "outputs": [
    {
     "name": "stdout",
     "output_type": "stream",
     "text": [
      "       Name  Grade\n",
      "0      Emma     85\n",
      "1      Noah     62\n",
      "2    Olivia     91\n",
      "3      Liam     78\n",
      "4       Ava     55\n",
      "5     Mason     99\n",
      "6    Sophia     73\n",
      "7     Jacob     48\n",
      "8  Isabella     88\n",
      "9   William     67\n"
     ]
    }
   ],
   "source": [
    "print(df[['Name', 'Grade']])"
   ]
  }
 ],
 "metadata": {
  "kernelspec": {
   "display_name": "Python 3",
   "language": "python",
   "name": "python3"
  },
  "language_info": {
   "codemirror_mode": {
    "name": "ipython",
    "version": 3
   },
   "file_extension": ".py",
   "mimetype": "text/x-python",
   "name": "python",
   "nbconvert_exporter": "python",
   "pygments_lexer": "ipython3",
   "version": "3.12.3"
  }
 },
 "nbformat": 4,
 "nbformat_minor": 5
}
