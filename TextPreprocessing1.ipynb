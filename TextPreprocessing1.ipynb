{
  "nbformat": 4,
  "nbformat_minor": 0,
  "metadata": {
    "colab": {
      "provenance": [],
      "authorship_tag": "ABX9TyMaZqCW2i6CdWssFwA34JOE",
      "include_colab_link": true
    },
    "kernelspec": {
      "name": "python3",
      "display_name": "Python 3"
    },
    "language_info": {
      "name": "python"
    }
  },
  "cells": [
    {
      "cell_type": "markdown",
      "metadata": {
        "id": "view-in-github",
        "colab_type": "text"
      },
      "source": [
        "<a href=\"https://colab.research.google.com/github/Omkar2703/AI/blob/main/TextPreprocessing1.ipynb\" target=\"_parent\"><img src=\"https://colab.research.google.com/assets/colab-badge.svg\" alt=\"Open In Colab\"/></a>"
      ]
    },
    {
      "cell_type": "code",
      "execution_count": 56,
      "metadata": {
        "colab": {
          "base_uri": "https://localhost:8080/"
        },
        "id": "YDe2xaN_FtKs",
        "outputId": "61727e18-7311-489e-a9ff-e5f87e3b1515"
      },
      "outputs": [
        {
          "output_type": "stream",
          "name": "stdout",
          "text": [
            "Requirement already satisfied: nltk in /usr/local/lib/python3.12/dist-packages (3.9.1)\n",
            "Requirement already satisfied: click in /usr/local/lib/python3.12/dist-packages (from nltk) (8.2.1)\n",
            "Requirement already satisfied: joblib in /usr/local/lib/python3.12/dist-packages (from nltk) (1.5.1)\n",
            "Requirement already satisfied: regex>=2021.8.3 in /usr/local/lib/python3.12/dist-packages (from nltk) (2024.11.6)\n",
            "Requirement already satisfied: tqdm in /usr/local/lib/python3.12/dist-packages (from nltk) (4.67.1)\n"
          ]
        }
      ],
      "source": [
        "!pip install nltk\n"
      ]
    },
    {
      "cell_type": "code",
      "source": [
        "paragraph = \"\"\" Rohit Gurunath Sharma (born 30 April 1987) is an Indian international cricketer and the captain of the India national team in ODIs. He is also a former captain in Tests and T20Is. He is widely regarded as one of the greatest opening batters of all time, and one of the best batsmen of his generation.[3] He is a right-handed batsman who plays for Mumbai Indians in Indian Premier League and for Mumbai in domestic cricket. After the team's victory at the 2024 Men's T20 World Cup, he announced his retirement from T20Is.[4][5] He was also a member of the teams that won the 2007 T20 World Cup, the 2013 ICC Champions Trophy and was the winning captain of the 2025 ICC Champions Trophy, where he was also the player of the match in the final.\n",
        "\n",
        "Sharma holds several batting records which include most runs in T20 Internationals, most sixes in international cricket,[a] most double centuries in ODI cricket (3), most centuries at Cricket World Cups (7) and joint most hundreds in Twenty20 Internationals (5)[7].He also holds the world record for the highest individual score (264) in a One Day International (ODI) and also holds the record for scoring most hundreds (five) in a single Cricket World Cup, for which he won the ICC Men's ODI Cricketer of the Year award in 2019.[8] He is the first and only captain to lead a team in all[b] ICC tournament finals.[9]\n",
        "\n",
        "He formerly captained Mumbai Indians and the team has won five Indian Premier League titles in 2013, 2015, 2017, 2019 and 2020 under him, making him the most successful captain in IPL history, sharing this record with MS Dhoni. He is also one of two players who have played in every edition of the T20 World Cup, from the inaugural edition in 2007 to the latest one in 2024.[c] He is the only Indian player to win two T20 World Cups. He became the second Indian captain to win a T20 World Cup.\n",
        "\n",
        "He has received two national honours, the Arjuna Award in 2015 and the prestigious Khel Ratna Award in 2020 by the Government of India. Under his captaincy, India won the 2018 Asia Cup and the 2023 Asia Cup, the seventh and eighth time the country won the title, both in ODI format as well as the 2018 Nidahas Trophy, their second overall and first in T20I format. \"\"\""
      ],
      "metadata": {
        "id": "EuN84-rmF2dc"
      },
      "execution_count": 57,
      "outputs": []
    },
    {
      "cell_type": "code",
      "source": [
        "print(paragraph)"
      ],
      "metadata": {
        "colab": {
          "base_uri": "https://localhost:8080/"
        },
        "id": "NmKUE5fkGDsj",
        "outputId": "0a2654ab-a9b3-4335-ad3d-0ca4c81087a8"
      },
      "execution_count": 58,
      "outputs": [
        {
          "output_type": "stream",
          "name": "stdout",
          "text": [
            " Rohit Gurunath Sharma (born 30 April 1987) is an Indian international cricketer and the captain of the India national team in ODIs. He is also a former captain in Tests and T20Is. He is widely regarded as one of the greatest opening batters of all time, and one of the best batsmen of his generation.[3] He is a right-handed batsman who plays for Mumbai Indians in Indian Premier League and for Mumbai in domestic cricket. After the team's victory at the 2024 Men's T20 World Cup, he announced his retirement from T20Is.[4][5] He was also a member of the teams that won the 2007 T20 World Cup, the 2013 ICC Champions Trophy and was the winning captain of the 2025 ICC Champions Trophy, where he was also the player of the match in the final.\n",
            "\n",
            "Sharma holds several batting records which include most runs in T20 Internationals, most sixes in international cricket,[a] most double centuries in ODI cricket (3), most centuries at Cricket World Cups (7) and joint most hundreds in Twenty20 Internationals (5)[7].He also holds the world record for the highest individual score (264) in a One Day International (ODI) and also holds the record for scoring most hundreds (five) in a single Cricket World Cup, for which he won the ICC Men's ODI Cricketer of the Year award in 2019.[8] He is the first and only captain to lead a team in all[b] ICC tournament finals.[9]\n",
            "\n",
            "He formerly captained Mumbai Indians and the team has won five Indian Premier League titles in 2013, 2015, 2017, 2019 and 2020 under him, making him the most successful captain in IPL history, sharing this record with MS Dhoni. He is also one of two players who have played in every edition of the T20 World Cup, from the inaugural edition in 2007 to the latest one in 2024.[c] He is the only Indian player to win two T20 World Cups. He became the second Indian captain to win a T20 World Cup.\n",
            "\n",
            "He has received two national honours, the Arjuna Award in 2015 and the prestigious Khel Ratna Award in 2020 by the Government of India. Under his captaincy, India won the 2018 Asia Cup and the 2023 Asia Cup, the seventh and eighth time the country won the title, both in ODI format as well as the 2018 Nidahas Trophy, their second overall and first in T20I format. \n"
          ]
        }
      ]
    },
    {
      "cell_type": "code",
      "source": [
        "import nltk"
      ],
      "metadata": {
        "id": "QNA4dqTdGHld"
      },
      "execution_count": 59,
      "outputs": []
    },
    {
      "cell_type": "code",
      "source": [
        "nltk.download('punkt_tab')"
      ],
      "metadata": {
        "colab": {
          "base_uri": "https://localhost:8080/"
        },
        "id": "lV4bvTGLGNaL",
        "outputId": "3af110e5-bb9d-4fcd-8fe4-4ed5dec259c2"
      },
      "execution_count": 60,
      "outputs": [
        {
          "output_type": "stream",
          "name": "stderr",
          "text": [
            "[nltk_data] Downloading package punkt_tab to /root/nltk_data...\n",
            "[nltk_data]   Package punkt_tab is already up-to-date!\n"
          ]
        },
        {
          "output_type": "execute_result",
          "data": {
            "text/plain": [
              "True"
            ]
          },
          "metadata": {},
          "execution_count": 60
        }
      ]
    },
    {
      "cell_type": "code",
      "source": [
        "sentences = nltk.sent_tokenize(paragraph)"
      ],
      "metadata": {
        "id": "XrMifX7dGQW5"
      },
      "execution_count": 61,
      "outputs": []
    },
    {
      "cell_type": "code",
      "source": [
        "print(sentences)"
      ],
      "metadata": {
        "colab": {
          "base_uri": "https://localhost:8080/"
        },
        "id": "xhXvwEOFGaSU",
        "outputId": "1128c3f5-5428-433f-a1a4-39acf9324580"
      },
      "execution_count": 62,
      "outputs": [
        {
          "output_type": "stream",
          "name": "stdout",
          "text": [
            "[' Rohit Gurunath Sharma (born 30 April 1987) is an Indian international cricketer and the captain of the India national team in ODIs.', 'He is also a former captain in Tests and T20Is.', 'He is widely regarded as one of the greatest opening batters of all time, and one of the best batsmen of his generation.', '[3] He is a right-handed batsman who plays for Mumbai Indians in Indian Premier League and for Mumbai in domestic cricket.', \"After the team's victory at the 2024 Men's T20 World Cup, he announced his retirement from T20Is.\", '[4][5] He was also a member of the teams that won the 2007 T20 World Cup, the 2013 ICC Champions Trophy and was the winning captain of the 2025 ICC Champions Trophy, where he was also the player of the match in the final.', \"Sharma holds several batting records which include most runs in T20 Internationals, most sixes in international cricket,[a] most double centuries in ODI cricket (3), most centuries at Cricket World Cups (7) and joint most hundreds in Twenty20 Internationals (5)[7].He also holds the world record for the highest individual score (264) in a One Day International (ODI) and also holds the record for scoring most hundreds (five) in a single Cricket World Cup, for which he won the ICC Men's ODI Cricketer of the Year award in 2019.\", '[8] He is the first and only captain to lead a team in all[b] ICC tournament finals.', '[9]\\n\\nHe formerly captained Mumbai Indians and the team has won five Indian Premier League titles in 2013, 2015, 2017, 2019 and 2020 under him, making him the most successful captain in IPL history, sharing this record with MS Dhoni.', 'He is also one of two players who have played in every edition of the T20 World Cup, from the inaugural edition in 2007 to the latest one in 2024.', '[c] He is the only Indian player to win two T20 World Cups.', 'He became the second Indian captain to win a T20 World Cup.', 'He has received two national honours, the Arjuna Award in 2015 and the prestigious Khel Ratna Award in 2020 by the Government of India.', 'Under his captaincy, India won the 2018 Asia Cup and the 2023 Asia Cup, the seventh and eighth time the country won the title, both in ODI format as well as the 2018 Nidahas Trophy, their second overall and first in T20I format.']\n"
          ]
        }
      ]
    },
    {
      "cell_type": "code",
      "source": [
        "type(sentences)"
      ],
      "metadata": {
        "colab": {
          "base_uri": "https://localhost:8080/"
        },
        "id": "pk-0TacHGe2m",
        "outputId": "f5878df3-bc42-4bae-8e7f-57c91190cc27"
      },
      "execution_count": 63,
      "outputs": [
        {
          "output_type": "execute_result",
          "data": {
            "text/plain": [
              "list"
            ]
          },
          "metadata": {},
          "execution_count": 63
        }
      ]
    },
    {
      "cell_type": "code",
      "source": [
        "from nltk.stem import PorterStemmer\n",
        "from nltk.corpus import stopwords"
      ],
      "metadata": {
        "id": "LSphFoobGheC"
      },
      "execution_count": 64,
      "outputs": []
    },
    {
      "cell_type": "code",
      "source": [
        "stemmer = PorterStemmer()"
      ],
      "metadata": {
        "id": "xGejDOGMGwnD"
      },
      "execution_count": 65,
      "outputs": []
    },
    {
      "cell_type": "code",
      "source": [
        "stemmer.stem('history')"
      ],
      "metadata": {
        "colab": {
          "base_uri": "https://localhost:8080/",
          "height": 56
        },
        "id": "QxgdzBcfG88R",
        "outputId": "c6863651-f5c9-4539-96c8-21b1ea4e9e77"
      },
      "execution_count": 66,
      "outputs": [
        {
          "output_type": "execute_result",
          "data": {
            "text/plain": [
              "'histori'"
            ],
            "application/vnd.google.colaboratory.intrinsic+json": {
              "type": "string"
            }
          },
          "metadata": {},
          "execution_count": 66
        }
      ]
    },
    {
      "cell_type": "code",
      "source": [
        "from nltk.stem import WordNetLemmatizer\n",
        "from nltk.corpus import wordnet"
      ],
      "metadata": {
        "id": "XijrivKQHCAx"
      },
      "execution_count": 67,
      "outputs": []
    },
    {
      "cell_type": "code",
      "source": [
        "lemmatizer = WordNetLemmatizer()"
      ],
      "metadata": {
        "id": "-17JvdocHUXG"
      },
      "execution_count": 68,
      "outputs": []
    },
    {
      "cell_type": "code",
      "metadata": {
        "colab": {
          "base_uri": "https://localhost:8080/"
        },
        "id": "0f20a467",
        "outputId": "6b5d5fe0-7b0e-4b7f-ee26-d278f2323361"
      },
      "source": [
        "nltk.download('wordnet')"
      ],
      "execution_count": 69,
      "outputs": [
        {
          "output_type": "stream",
          "name": "stderr",
          "text": [
            "[nltk_data] Downloading package wordnet to /root/nltk_data...\n",
            "[nltk_data]   Package wordnet is already up-to-date!\n"
          ]
        },
        {
          "output_type": "execute_result",
          "data": {
            "text/plain": [
              "True"
            ]
          },
          "metadata": {},
          "execution_count": 69
        }
      ]
    },
    {
      "cell_type": "code",
      "source": [
        "lemmatizer.lemmatize('history')"
      ],
      "metadata": {
        "colab": {
          "base_uri": "https://localhost:8080/",
          "height": 56
        },
        "id": "_TRN-AilI6tS",
        "outputId": "36854a34-bdca-428c-e76d-c2e02e1e2b53"
      },
      "execution_count": 70,
      "outputs": [
        {
          "output_type": "execute_result",
          "data": {
            "text/plain": [
              "'history'"
            ],
            "application/vnd.google.colaboratory.intrinsic+json": {
              "type": "string"
            }
          },
          "metadata": {},
          "execution_count": 70
        }
      ]
    },
    {
      "cell_type": "code",
      "source": [
        "len(sentences)"
      ],
      "metadata": {
        "colab": {
          "base_uri": "https://localhost:8080/"
        },
        "id": "JU4urpQhJOxL",
        "outputId": "d8988379-bd65-46e6-bada-195842895948"
      },
      "execution_count": 71,
      "outputs": [
        {
          "output_type": "execute_result",
          "data": {
            "text/plain": [
              "14"
            ]
          },
          "metadata": {},
          "execution_count": 71
        }
      ]
    },
    {
      "cell_type": "code",
      "source": [
        "import re"
      ],
      "metadata": {
        "id": "W5MaQ6ugJQzq"
      },
      "execution_count": 72,
      "outputs": []
    },
    {
      "cell_type": "code",
      "source": [
        "corpus = []\n",
        "for i in range(len(sentences)):\n",
        "  review = re.sub('[^a-zA-Z]', ' ', sentences[i])\n",
        "  review = review.lower()\n",
        "  corpus.append(review)"
      ],
      "metadata": {
        "id": "g4JaGXTsJSw5"
      },
      "execution_count": 73,
      "outputs": []
    },
    {
      "cell_type": "code",
      "source": [
        "corpus"
      ],
      "metadata": {
        "colab": {
          "base_uri": "https://localhost:8080/"
        },
        "id": "EtqsRtTDJ0zS",
        "outputId": "4eb0a85a-f322-4552-ce80-9dc437c3f68d"
      },
      "execution_count": 74,
      "outputs": [
        {
          "output_type": "execute_result",
          "data": {
            "text/plain": [
              "[' rohit gurunath sharma  born    april       is an indian international cricketer and the captain of the india national team in odis ',\n",
              " 'he is also a former captain in tests and t  is ',\n",
              " 'he is widely regarded as one of the greatest opening batters of all time  and one of the best batsmen of his generation ',\n",
              " '    he is a right handed batsman who plays for mumbai indians in indian premier league and for mumbai in domestic cricket ',\n",
              " 'after the team s victory at the      men s t   world cup  he announced his retirement from t  is ',\n",
              " '       he was also a member of the teams that won the      t   world cup  the      icc champions trophy and was the winning captain of the      icc champions trophy  where he was also the player of the match in the final ',\n",
              " 'sharma holds several batting records which include most runs in t   internationals  most sixes in international cricket  a  most double centuries in odi cricket      most centuries at cricket world cups     and joint most hundreds in twenty   internationals        he also holds the world record for the highest individual score       in a one day international  odi  and also holds the record for scoring most hundreds  five  in a single cricket world cup  for which he won the icc men s odi cricketer of the year award in      ',\n",
              " '    he is the first and only captain to lead a team in all b  icc tournament finals ',\n",
              " '     he formerly captained mumbai indians and the team has won five indian premier league titles in                        and      under him  making him the most successful captain in ipl history  sharing this record with ms dhoni ',\n",
              " 'he is also one of two players who have played in every edition of the t   world cup  from the inaugural edition in      to the latest one in      ',\n",
              " ' c  he is the only indian player to win two t   world cups ',\n",
              " 'he became the second indian captain to win a t   world cup ',\n",
              " 'he has received two national honours  the arjuna award in      and the prestigious khel ratna award in      by the government of india ',\n",
              " 'under his captaincy  india won the      asia cup and the      asia cup  the seventh and eighth time the country won the title  both in odi format as well as the      nidahas trophy  their second overall and first in t  i format ']"
            ]
          },
          "metadata": {},
          "execution_count": 74
        }
      ]
    },
    {
      "cell_type": "code",
      "source": [
        "nltk.download('stopwords')"
      ],
      "metadata": {
        "colab": {
          "base_uri": "https://localhost:8080/"
        },
        "id": "bWdD-TKxKwRk",
        "outputId": "7813e580-5b97-4a87-d3f6-045181c6d24b"
      },
      "execution_count": 76,
      "outputs": [
        {
          "output_type": "stream",
          "name": "stderr",
          "text": [
            "[nltk_data] Downloading package stopwords to /root/nltk_data...\n",
            "[nltk_data]   Unzipping corpora/stopwords.zip.\n"
          ]
        },
        {
          "output_type": "execute_result",
          "data": {
            "text/plain": [
              "True"
            ]
          },
          "metadata": {},
          "execution_count": 76
        }
      ]
    },
    {
      "cell_type": "code",
      "source": [
        "for i in corpus:\n",
        "  words = nltk.word_tokenize(i)\n",
        "  for word in words:\n",
        "    if word not in set(stopwords.words('english')):\n",
        "      print(stemmer.stem(word))"
      ],
      "metadata": {
        "colab": {
          "base_uri": "https://localhost:8080/"
        },
        "id": "5p7zCeBEKDPx",
        "outputId": "a33e8bdf-60d6-418a-fc95-e9c1cb58c94a"
      },
      "execution_count": 77,
      "outputs": [
        {
          "output_type": "stream",
          "name": "stdout",
          "text": [
            "rohit\n",
            "gurunath\n",
            "sharma\n",
            "born\n",
            "april\n",
            "indian\n",
            "intern\n",
            "cricket\n",
            "captain\n",
            "india\n",
            "nation\n",
            "team\n",
            "odi\n",
            "also\n",
            "former\n",
            "captain\n",
            "test\n",
            "wide\n",
            "regard\n",
            "one\n",
            "greatest\n",
            "open\n",
            "batter\n",
            "time\n",
            "one\n",
            "best\n",
            "batsmen\n",
            "gener\n",
            "right\n",
            "hand\n",
            "batsman\n",
            "play\n",
            "mumbai\n",
            "indian\n",
            "indian\n",
            "premier\n",
            "leagu\n",
            "mumbai\n",
            "domest\n",
            "cricket\n",
            "team\n",
            "victori\n",
            "men\n",
            "world\n",
            "cup\n",
            "announc\n",
            "retir\n",
            "also\n",
            "member\n",
            "team\n",
            "world\n",
            "cup\n",
            "icc\n",
            "champion\n",
            "trophi\n",
            "win\n",
            "captain\n",
            "icc\n",
            "champion\n",
            "trophi\n",
            "also\n",
            "player\n",
            "match\n",
            "final\n",
            "sharma\n",
            "hold\n",
            "sever\n",
            "bat\n",
            "record\n",
            "includ\n",
            "run\n",
            "intern\n",
            "six\n",
            "intern\n",
            "cricket\n",
            "doubl\n",
            "centuri\n",
            "odi\n",
            "cricket\n",
            "centuri\n",
            "cricket\n",
            "world\n",
            "cup\n",
            "joint\n",
            "hundr\n",
            "twenti\n",
            "intern\n",
            "also\n",
            "hold\n",
            "world\n",
            "record\n",
            "highest\n",
            "individu\n",
            "score\n",
            "one\n",
            "day\n",
            "intern\n",
            "odi\n",
            "also\n",
            "hold\n",
            "record\n",
            "score\n",
            "hundr\n",
            "five\n",
            "singl\n",
            "cricket\n",
            "world\n",
            "cup\n",
            "icc\n",
            "men\n",
            "odi\n",
            "cricket\n",
            "year\n",
            "award\n",
            "first\n",
            "captain\n",
            "lead\n",
            "team\n",
            "b\n",
            "icc\n",
            "tournament\n",
            "final\n",
            "formerli\n",
            "captain\n",
            "mumbai\n",
            "indian\n",
            "team\n",
            "five\n",
            "indian\n",
            "premier\n",
            "leagu\n",
            "titl\n",
            "make\n",
            "success\n",
            "captain\n",
            "ipl\n",
            "histori\n",
            "share\n",
            "record\n",
            "ms\n",
            "dhoni\n",
            "also\n",
            "one\n",
            "two\n",
            "player\n",
            "play\n",
            "everi\n",
            "edit\n",
            "world\n",
            "cup\n",
            "inaugur\n",
            "edit\n",
            "latest\n",
            "one\n",
            "c\n",
            "indian\n",
            "player\n",
            "win\n",
            "two\n",
            "world\n",
            "cup\n",
            "becam\n",
            "second\n",
            "indian\n",
            "captain\n",
            "win\n",
            "world\n",
            "cup\n",
            "receiv\n",
            "two\n",
            "nation\n",
            "honour\n",
            "arjuna\n",
            "award\n",
            "prestigi\n",
            "khel\n",
            "ratna\n",
            "award\n",
            "govern\n",
            "india\n",
            "captainci\n",
            "india\n",
            "asia\n",
            "cup\n",
            "asia\n",
            "cup\n",
            "seventh\n",
            "eighth\n",
            "time\n",
            "countri\n",
            "titl\n",
            "odi\n",
            "format\n",
            "well\n",
            "nidaha\n",
            "trophi\n",
            "second\n",
            "overal\n",
            "first\n",
            "format\n"
          ]
        }
      ]
    },
    {
      "cell_type": "code",
      "source": [
        "for i in corpus:\n",
        "  words = nltk.word_tokenize(i)\n",
        "  for word in words:\n",
        "    if word not in set(stopwords.words('english')):\n",
        "      print(lemmatizer.lemmatize(word))"
      ],
      "metadata": {
        "colab": {
          "base_uri": "https://localhost:8080/"
        },
        "id": "b5x-iq0yK_nx",
        "outputId": "b3fc468d-4c0b-4a8a-f592-5eccfb9806ad"
      },
      "execution_count": 78,
      "outputs": [
        {
          "output_type": "stream",
          "name": "stdout",
          "text": [
            "rohit\n",
            "gurunath\n",
            "sharma\n",
            "born\n",
            "april\n",
            "indian\n",
            "international\n",
            "cricketer\n",
            "captain\n",
            "india\n",
            "national\n",
            "team\n",
            "odis\n",
            "also\n",
            "former\n",
            "captain\n",
            "test\n",
            "widely\n",
            "regarded\n",
            "one\n",
            "greatest\n",
            "opening\n",
            "batter\n",
            "time\n",
            "one\n",
            "best\n",
            "batsman\n",
            "generation\n",
            "right\n",
            "handed\n",
            "batsman\n",
            "play\n",
            "mumbai\n",
            "indian\n",
            "indian\n",
            "premier\n",
            "league\n",
            "mumbai\n",
            "domestic\n",
            "cricket\n",
            "team\n",
            "victory\n",
            "men\n",
            "world\n",
            "cup\n",
            "announced\n",
            "retirement\n",
            "also\n",
            "member\n",
            "team\n",
            "world\n",
            "cup\n",
            "icc\n",
            "champion\n",
            "trophy\n",
            "winning\n",
            "captain\n",
            "icc\n",
            "champion\n",
            "trophy\n",
            "also\n",
            "player\n",
            "match\n",
            "final\n",
            "sharma\n",
            "hold\n",
            "several\n",
            "batting\n",
            "record\n",
            "include\n",
            "run\n",
            "international\n",
            "six\n",
            "international\n",
            "cricket\n",
            "double\n",
            "century\n",
            "odi\n",
            "cricket\n",
            "century\n",
            "cricket\n",
            "world\n",
            "cup\n",
            "joint\n",
            "hundred\n",
            "twenty\n",
            "international\n",
            "also\n",
            "hold\n",
            "world\n",
            "record\n",
            "highest\n",
            "individual\n",
            "score\n",
            "one\n",
            "day\n",
            "international\n",
            "odi\n",
            "also\n",
            "hold\n",
            "record\n",
            "scoring\n",
            "hundred\n",
            "five\n",
            "single\n",
            "cricket\n",
            "world\n",
            "cup\n",
            "icc\n",
            "men\n",
            "odi\n",
            "cricketer\n",
            "year\n",
            "award\n",
            "first\n",
            "captain\n",
            "lead\n",
            "team\n",
            "b\n",
            "icc\n",
            "tournament\n",
            "final\n",
            "formerly\n",
            "captained\n",
            "mumbai\n",
            "indian\n",
            "team\n",
            "five\n",
            "indian\n",
            "premier\n",
            "league\n",
            "title\n",
            "making\n",
            "successful\n",
            "captain\n",
            "ipl\n",
            "history\n",
            "sharing\n",
            "record\n",
            "m\n",
            "dhoni\n",
            "also\n",
            "one\n",
            "two\n",
            "player\n",
            "played\n",
            "every\n",
            "edition\n",
            "world\n",
            "cup\n",
            "inaugural\n",
            "edition\n",
            "latest\n",
            "one\n",
            "c\n",
            "indian\n",
            "player\n",
            "win\n",
            "two\n",
            "world\n",
            "cup\n",
            "became\n",
            "second\n",
            "indian\n",
            "captain\n",
            "win\n",
            "world\n",
            "cup\n",
            "received\n",
            "two\n",
            "national\n",
            "honour\n",
            "arjuna\n",
            "award\n",
            "prestigious\n",
            "khel\n",
            "ratna\n",
            "award\n",
            "government\n",
            "india\n",
            "captaincy\n",
            "india\n",
            "asia\n",
            "cup\n",
            "asia\n",
            "cup\n",
            "seventh\n",
            "eighth\n",
            "time\n",
            "country\n",
            "title\n",
            "odi\n",
            "format\n",
            "well\n",
            "nidahas\n",
            "trophy\n",
            "second\n",
            "overall\n",
            "first\n",
            "format\n"
          ]
        }
      ]
    },
    {
      "cell_type": "code",
      "source": [
        "from sklearn.feature_extraction.text import CountVectorizer\n",
        "cv = CountVectorizer(binary=True)"
      ],
      "metadata": {
        "id": "A9vsqR3WLIyw"
      },
      "execution_count": 86,
      "outputs": []
    },
    {
      "cell_type": "code",
      "source": [
        "X = cv.fit_transform(corpus)"
      ],
      "metadata": {
        "id": "jxE1O0eVLbsc"
      },
      "execution_count": 87,
      "outputs": []
    },
    {
      "cell_type": "code",
      "source": [
        "cv.vocabulary_"
      ],
      "metadata": {
        "colab": {
          "base_uri": "https://localhost:8080/"
        },
        "id": "GlgBTUpcLhlA",
        "outputId": "ca96c306-b057-4881-a0b3-77091493e7c9"
      },
      "execution_count": 88,
      "outputs": [
        {
          "output_type": "execute_result",
          "data": {
            "text/plain": [
              "{'rohit': 108,\n",
              " 'gurunath': 50,\n",
              " 'sharma': 116,\n",
              " 'born': 18,\n",
              " 'april': 6,\n",
              " 'is': 73,\n",
              " 'an': 3,\n",
              " 'indian': 67,\n",
              " 'international': 70,\n",
              " 'cricketer': 28,\n",
              " 'and': 4,\n",
              " 'the': 124,\n",
              " 'captain': 21,\n",
              " 'of': 90,\n",
              " 'india': 66,\n",
              " 'national': 86,\n",
              " 'team': 120,\n",
              " 'in': 63,\n",
              " 'odis': 89,\n",
              " 'he': 54,\n",
              " 'also': 2,\n",
              " 'former': 44,\n",
              " 'tests': 122,\n",
              " 'widely': 142,\n",
              " 'regarded': 105,\n",
              " 'as': 8,\n",
              " 'one': 91,\n",
              " 'greatest': 49,\n",
              " 'opening': 93,\n",
              " 'batters': 14,\n",
              " 'all': 1,\n",
              " 'time': 127,\n",
              " 'best': 17,\n",
              " 'batsmen': 13,\n",
              " 'his': 57,\n",
              " 'generation': 47,\n",
              " 'right': 107,\n",
              " 'handed': 51,\n",
              " 'batsman': 12,\n",
              " 'who': 141,\n",
              " 'plays': 98,\n",
              " 'for': 42,\n",
              " 'mumbai': 85,\n",
              " 'indians': 68,\n",
              " 'premier': 99,\n",
              " 'league': 78,\n",
              " 'domestic': 33,\n",
              " 'cricket': 27,\n",
              " 'after': 0,\n",
              " 'victory': 136,\n",
              " 'at': 10,\n",
              " 'men': 82,\n",
              " 'world': 147,\n",
              " 'cup': 29,\n",
              " 'announced': 5,\n",
              " 'retirement': 106,\n",
              " 'from': 46,\n",
              " 'was': 137,\n",
              " 'member': 81,\n",
              " 'teams': 121,\n",
              " 'that': 123,\n",
              " 'won': 146,\n",
              " 'icc': 62,\n",
              " 'champions': 25,\n",
              " 'trophy': 132,\n",
              " 'winning': 144,\n",
              " 'where': 139,\n",
              " 'player': 96,\n",
              " 'match': 80,\n",
              " 'final': 38,\n",
              " 'holds': 59,\n",
              " 'several': 114,\n",
              " 'batting': 15,\n",
              " 'records': 104,\n",
              " 'which': 140,\n",
              " 'include': 65,\n",
              " 'most': 83,\n",
              " 'runs': 109,\n",
              " 'internationals': 71,\n",
              " 'sixes': 118,\n",
              " 'double': 34,\n",
              " 'centuries': 24,\n",
              " 'odi': 88,\n",
              " 'cups': 30,\n",
              " 'joint': 74,\n",
              " 'hundreds': 61,\n",
              " 'twenty': 133,\n",
              " 'record': 103,\n",
              " 'highest': 55,\n",
              " 'individual': 69,\n",
              " 'score': 110,\n",
              " 'day': 31,\n",
              " 'scoring': 111,\n",
              " 'five': 41,\n",
              " 'single': 117,\n",
              " 'year': 148,\n",
              " 'award': 11,\n",
              " 'first': 40,\n",
              " 'only': 92,\n",
              " 'to': 130,\n",
              " 'lead': 77,\n",
              " 'tournament': 131,\n",
              " 'finals': 39,\n",
              " 'formerly': 45,\n",
              " 'captained': 23,\n",
              " 'has': 52,\n",
              " 'titles': 129,\n",
              " 'under': 135,\n",
              " 'him': 56,\n",
              " 'making': 79,\n",
              " 'successful': 119,\n",
              " 'ipl': 72,\n",
              " 'history': 58,\n",
              " 'sharing': 115,\n",
              " 'this': 126,\n",
              " 'with': 145,\n",
              " 'ms': 84,\n",
              " 'dhoni': 32,\n",
              " 'two': 134,\n",
              " 'players': 97,\n",
              " 'have': 53,\n",
              " 'played': 95,\n",
              " 'every': 37,\n",
              " 'edition': 35,\n",
              " 'inaugural': 64,\n",
              " 'latest': 76,\n",
              " 'win': 143,\n",
              " 'became': 16,\n",
              " 'second': 112,\n",
              " 'received': 102,\n",
              " 'honours': 60,\n",
              " 'arjuna': 7,\n",
              " 'prestigious': 100,\n",
              " 'khel': 75,\n",
              " 'ratna': 101,\n",
              " 'by': 20,\n",
              " 'government': 48,\n",
              " 'captaincy': 22,\n",
              " 'asia': 9,\n",
              " 'seventh': 113,\n",
              " 'eighth': 36,\n",
              " 'country': 26,\n",
              " 'title': 128,\n",
              " 'both': 19,\n",
              " 'format': 43,\n",
              " 'well': 138,\n",
              " 'nidahas': 87,\n",
              " 'their': 125,\n",
              " 'overall': 94}"
            ]
          },
          "metadata": {},
          "execution_count": 88
        }
      ]
    },
    {
      "cell_type": "code",
      "source": [
        "X[0].toarray()"
      ],
      "metadata": {
        "colab": {
          "base_uri": "https://localhost:8080/"
        },
        "id": "sNzA6JRhLpq5",
        "outputId": "a4a614ae-7384-4684-ee36-cf2f6c5f5248"
      },
      "execution_count": 89,
      "outputs": [
        {
          "output_type": "execute_result",
          "data": {
            "text/plain": [
              "array([[0, 0, 0, 1, 1, 0, 1, 0, 0, 0, 0, 0, 0, 0, 0, 0, 0, 0, 1, 0, 0, 1,\n",
              "        0, 0, 0, 0, 0, 0, 1, 0, 0, 0, 0, 0, 0, 0, 0, 0, 0, 0, 0, 0, 0, 0,\n",
              "        0, 0, 0, 0, 0, 0, 1, 0, 0, 0, 0, 0, 0, 0, 0, 0, 0, 0, 0, 1, 0, 0,\n",
              "        1, 1, 0, 0, 1, 0, 0, 1, 0, 0, 0, 0, 0, 0, 0, 0, 0, 0, 0, 0, 1, 0,\n",
              "        0, 1, 1, 0, 0, 0, 0, 0, 0, 0, 0, 0, 0, 0, 0, 0, 0, 0, 0, 0, 1, 0,\n",
              "        0, 0, 0, 0, 0, 0, 1, 0, 0, 0, 1, 0, 0, 0, 1, 0, 0, 0, 0, 0, 0, 0,\n",
              "        0, 0, 0, 0, 0, 0, 0, 0, 0, 0, 0, 0, 0, 0, 0, 0, 0]])"
            ]
          },
          "metadata": {},
          "execution_count": 89
        }
      ]
    }
  ]
}