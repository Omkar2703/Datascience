{
 "cells": [
  {
   "cell_type": "code",
   "execution_count": 3,
   "id": "e34e3c12",
   "metadata": {},
   "outputs": [
    {
     "name": "stdout",
     "output_type": "stream",
     "text": [
      "[85, 62, 91, 78, 55, 99, 73, 48, 88, 67, 85, 62, 91, 78, 55, 99, 73, 48, 88, 67]\n"
     ]
    }
   ],
   "source": [
    "data = [85, 62, 91, 78, 55, 99, 73, 48, 88, 67]\n",
    "print(data * 2)"
   ]
  },
  {
   "cell_type": "code",
   "execution_count": 5,
   "id": "a117bfd0",
   "metadata": {},
   "outputs": [
    {
     "name": "stdout",
     "output_type": "stream",
     "text": [
      "[85 62 91 78 55 99 73 48 88 67]\n",
      "[170 124 182 156 110 198 146  96 176 134]\n"
     ]
    }
   ],
   "source": [
    "import numpy as np\n",
    "\n",
    "grade = np.array(data)\n",
    "print(grade)\n",
    "print(grade * 2)"
   ]
  },
  {
   "cell_type": "code",
   "execution_count": 9,
   "id": "1f50c3c3",
   "metadata": {},
   "outputs": [
    {
     "name": "stdout",
     "output_type": "stream",
     "text": [
      "[['Emma' 'Noah' 'Olivia' 'Liam' 'Ava' 'Mason' 'Sophia' 'Jacob' 'Isabella'\n",
      "  'William']\n",
      " ['85' '62' '91' '78' '55' '99' '73' '48' '88' '67']\n",
      " ['2.5' '6.0' '1.0' '4.5' '8.0' '3.0' '7.5' '5.0' '0.5' '9.0']]\n"
     ]
    }
   ],
   "source": [
    "Students = np.array([[\"Emma\", \"Noah\", \"Olivia\", \"Liam\", \"Ava\", \"Mason\", \"Sophia\", \"Jacob\", \"Isabella\", \"William\"] ,grade, [2.5, 6.0, 1.0, 4.5, 8.0, 3.0, 7.5, 5.0, 0.5, 9.0]])\n",
    "\n",
    "print(Students)"
   ]
  },
  {
   "cell_type": "code",
   "execution_count": 18,
   "id": "6cdf033e",
   "metadata": {},
   "outputs": [
    {
     "name": "stdout",
     "output_type": "stream",
     "text": [
      "['Emma' 'Noah' 'Olivia' 'Liam' 'Ava' 'Mason' 'Sophia' 'Jacob' 'Isabella'\n",
      " 'William']\n"
     ]
    }
   ],
   "source": [
    "print(Students[0])"
   ]
  },
  {
   "cell_type": "code",
   "execution_count": 19,
   "id": "f7a831d0",
   "metadata": {},
   "outputs": [
    {
     "data": {
      "text/plain": [
       "(3, 10)"
      ]
     },
     "execution_count": 19,
     "metadata": {},
     "output_type": "execute_result"
    }
   ],
   "source": [
    "Students.shape"
   ]
  },
  {
   "cell_type": "code",
   "execution_count": 20,
   "id": "16d4822d",
   "metadata": {},
   "outputs": [
    {
     "data": {
      "text/plain": [
       "dtype('<U32')"
      ]
     },
     "execution_count": 20,
     "metadata": {},
     "output_type": "execute_result"
    }
   ],
   "source": [
    "Students.dtype"
   ]
  },
  {
   "cell_type": "code",
   "execution_count": 21,
   "id": "7e06c325",
   "metadata": {},
   "outputs": [
    {
     "data": {
      "text/plain": [
       "30"
      ]
     },
     "execution_count": 21,
     "metadata": {},
     "output_type": "execute_result"
    }
   ],
   "source": [
    "Students.size"
   ]
  }
 ],
 "metadata": {
  "kernelspec": {
   "display_name": "Python 3",
   "language": "python",
   "name": "python3"
  },
  "language_info": {
   "codemirror_mode": {
    "name": "ipython",
    "version": 3
   },
   "file_extension": ".py",
   "mimetype": "text/x-python",
   "name": "python",
   "nbconvert_exporter": "python",
   "pygments_lexer": "ipython3",
   "version": "3.12.3"
  }
 },
 "nbformat": 4,
 "nbformat_minor": 5
}
